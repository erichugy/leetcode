{
 "cells": [
  {
   "cell_type": "code",
   "execution_count": null,
   "metadata": {
    "vscode": {
     "languageId": "plaintext"
    }
   },
   "outputs": [],
   "source": [
    "Software developers at Amazon are developing a new library for NLP. In one of its modules, every string needs to be preprocessed in a particular manner to find the length of its longest self-sufficient proper substring.\n",
    "\n",
    "A self-sufficuent proper substring is one where:\n",
    "\n",
    "1) the substring is not the entire string s\n",
    "2) No letter that occurs inside the substring also occurs outside the substring\n",
    "\n",
    "Given the string fullstring of legth n, find the length of its longes self-sufficient proper substring. If none exists, return 0.\n",
    "\n"
   ]
  },
  {
   "cell_type": "code",
   "execution_count": null,
   "metadata": {},
   "outputs": [],
   "source": [
    "def findLongestLength(fullString) -> int:\n",
    "    n = len(fullString)\n",
    "    if n <= 1:\n",
    "        return 0  # No proper substring possible\n",
    "    \n",
    "    # Initialize sets\n",
    "    outside_set = set(fullString)  # All characters start outside\n",
    "    inside_set = set()  # No characters inside at the start\n",
    "    \n",
    "    maxLength = 0\n",
    "    l = 0\n",
    "    \n",
    "    # Sliding window\n",
    "    for r in range(n):\n",
    "        char = fullString[r]\n",
    "        \n",
    "        # Move character from outside_set to inside_set\n",
    "        if char in outside_set:\n",
    "            outside_set.remove(char)\n",
    "        inside_set.add(char)\n",
    "        \n",
    "        # Check if the substring is self-sufficient\n",
    "        while not is_self_sufficient(inside_set, outside_set):\n",
    "            # If not, shrink the window by moving `l`\n",
    "            left_char = fullString[l]\n",
    "            inside_set.remove(left_char)\n",
    "            outside_set.add(left_char)\n",
    "            l += 1\n",
    "        \n",
    "        # Update max length (only for proper substrings)\n",
    "        if r - l + 1 < n:\n",
    "            maxLength = max(maxLength, r - l + 1)\n",
    "    \n",
    "    return maxLength\n",
    "\n",
    "def is_self_sufficient(inside_set, outside_set):\n",
    "    \"\"\"\n",
    "    A substring is self-sufficient if no character in inside_set exists in outside_set.\n",
    "    \"\"\"\n",
    "    return inside_set.isdisjoint(outside_set)\n",
    "\n",
    "class TestLongestSelfSufficientSubstring(unittest.TestCase):\n",
    "    def test_example_1(self):\n",
    "        self.assertEqual(findLongestLength(\"abac\"), 3)\n",
    "\n",
    "    def test_example_2(self):\n",
    "        self.assertEqual(findLongestLength(\"aabbcc\"), 4)\n",
    "\n",
    "    def test_example_3(self):\n",
    "        self.assertEqual(findLongestLength(\"abcabc\"), 0)\n",
    "\n",
    "    def test_example_4(self):\n",
    "        self.assertEqual(findLongestLength(\"abcd\"), 3)\n",
    "\n",
    "    def test_example_5(self):\n",
    "        self.assertEqual(findLongestLength(\"a\"), 0)\n",
    "\n",
    "        \n",
    "    def test_example_6(self):\n",
    "        self.assertEqual(findLongestLength(\"amazonservices\"), 11)\n",
    "\n",
    "    def test_example_7(self):\n",
    "        self.assertEqual(findLongestLength(\"abadgdg\"), 4)\n",
    "if __name__ == '__main__':\n",
    "    unittest.main(argv=[''], exit=False)\n"
   ]
  }
 ],
 "metadata": {
  "language_info": {
   "name": "python"
  }
 },
 "nbformat": 4,
 "nbformat_minor": 2
}
