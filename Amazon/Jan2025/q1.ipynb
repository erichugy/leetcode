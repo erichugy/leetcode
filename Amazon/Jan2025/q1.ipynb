{
 "cells": [
  {
   "cell_type": "code",
   "execution_count": null,
   "metadata": {
    "vscode": {
     "languageId": "plaintext"
    }
   },
   "outputs": [],
   "source": [
    "Solar power consumption has increased due to concern over global warming. Some Amazon offices have decided to replace some of their electricity-powered bulbs with solar-powered bulbs. Here electricity-powered means using a wired supply of electricity and solar powered means powered by an indepenedent solar panel.\n",
    "\n",
    "In one such office the lights are arrached sequentially represented by a binary sequence, bulbs. The electricity-powered bulbs are represented by '0' and the solar-powered bulbs are '1'. \n",
    "\n",
    "It is desired to have as many solar-powered bulbs as possible, btu the electrivity powered ones are brighter than the solar-powered bulbs. An elextrivity powered bulb can be replaced by a solar-pwered bulb only if the new soar-powered bulb is not adjacent to a solar-powered bulb. More formally, a '0' can be replaced by a 1 if and only if it does't become adjacent to amother 1 on replcaement. \n",
    "\n",
    "Find the maximum umber of solar-powered bulbs that can be placed in teh office. Note that the initial lighting may already have some adjacent powered bulbs. the constraon is only for new bulbs.\n",
    "\n",
    "report the total number of solar poweredbulbs not just the number of replaced bulbs."
   ]
  },
  {
   "cell_type": "markdown",
   "metadata": {},
   "source": [
    "brute force would be to just generate all "
   ]
  },
  {
   "cell_type": "code",
   "execution_count": null,
   "metadata": {},
   "outputs": [],
   "source": [
    "import unittest\n",
    "\n",
    "def getMaxSolar(bulbs):\n",
    "    bulbs = list(bulbs)\n",
    "    n = len(bulbs)\n",
    "    \n",
    "    for i in range(n):\n",
    "        if bulbs[i] == '0':\n",
    "            if (i == 0 or bulbs[i-1] == '0') and (i == n-1 or bulbs[i+1] == '0'):\n",
    "                bulbs[i] = '1'\n",
    "    \n",
    "    return bulbs.count('1')\n",
    "\n",
    "\n",
    "class TestMaxSolarBulbs(unittest.TestCase):\n",
    "    def test_example_case(self):\n",
    "        self.assertEqual(getMaxSolar('01010'), 3)\n",
    "    \n",
    "    def test_no_replacement(self):\n",
    "        self.assertEqual(getMaxSolar('11111'), 5)\n",
    "    \n",
    "    def test_all_replacement(self):\n",
    "        self.assertEqual(getMaxSolar('00000'), 3)\n",
    "    \n",
    "    def test_mixed_case(self):\n",
    "        self.assertEqual(getMaxSolar('10001'), 3)\n",
    "        \n",
    "    def test_cust1(self):\n",
    "        self.assertEqual(getMaxSolar('1'), 1)\n",
    "        \n",
    "    def test_cust2(self):\n",
    "        self.assertEqual(getMaxSolar('0'), 1)\n",
    "        \n",
    "    def test_cust3(self):\n",
    "        self.assertEqual(getMaxSolar('0000'), 2)\n",
    "\n",
    "if __name__ == '__main__':\n",
    "    unittest.main(argv=[''], exit=False)\n"
   ]
  }
 ],
 "metadata": {
  "language_info": {
   "name": "python"
  }
 },
 "nbformat": 4,
 "nbformat_minor": 2
}
