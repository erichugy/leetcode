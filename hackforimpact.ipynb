{
 "cells": [
  {
   "cell_type": "code",
   "execution_count": 1,
   "metadata": {},
   "outputs": [],
   "source": [
    "from typing import List"
   ]
  },
  {
   "cell_type": "code",
   "execution_count": 2,
   "metadata": {},
   "outputs": [
    {
     "name": "stdout",
     "output_type": "stream",
     "text": [
      "0\n"
     ]
    }
   ],
   "source": [
    "\"\"\"\n",
    "You are given an integer array nums. The unique elements of an array are the elements that appear exactly once in the array.\n",
    "Return the sum of all the unique elements of nums.\n",
    "Input: nums = [1,2,3,2]\n",
    "Output: 4\n",
    "Explanation: The unique elements are [1,3], and the sum is 4.\n",
    "\n",
    "could be empty elements\n",
    "ints no matter what\n",
    "\"\"\"\n",
    "\n",
    "def sumOfUniques(nums):\n",
    "    \n",
    "    freqs = {}\n",
    "    total = 0\n",
    "    \n",
    "    for num in nums:\n",
    "        freqs[num] = freqs.get(num,0) + 1\n",
    "    \n",
    "    for k, v in freqs.items():\n",
    "        if v == 1:\n",
    "            total += k\n",
    "    \n",
    "    return total \n",
    "\n",
    "nums = []\n",
    "\n",
    "print(sumOfUniques(nums))\n",
    "\n"
   ]
  },
  {
   "cell_type": "code",
   "execution_count": 3,
   "metadata": {},
   "outputs": [
    {
     "name": "stdout",
     "output_type": "stream",
     "text": [
      "[[1, 2, 5], [1, 3, 4], [2, 3, 4]]\n"
     ]
    }
   ],
   "source": [
    "def threeSum(self, nums: List[int]) -> List[List[int]]:\n",
    "        triplets = []\n",
    "        n = len(nums)\n",
    "        p1 = 0\n",
    "\n",
    "        nums.sort()\n",
    "        # map all nums to a dict\n",
    "        # then do dict[p1 + p2]\n",
    "        # if collision, then what?\n",
    "\n",
    "        # Fix one ptr turn into twosum problem\n",
    "\n",
    "        while p1 <= n - 3:\n",
    "            target = 0 - nums[p1]\n",
    "            p2 = p1 + 1\n",
    "            p3 = n-1\n",
    "\n",
    "            while p2 < p3:\n",
    "                twoSum = nums[p2] + nums[p3]\n",
    "                if twoSum == target:\n",
    "                    triplets.append([p1,p2,p3])\n",
    "                    p2 += 1\n",
    "                    p3 -= 1\n",
    "                elif twoSum < target:\n",
    "                    p2 += 1\n",
    "                else :\n",
    "                    p3 -= 1\n",
    "                \n",
    "            p1 += 1\n",
    "        \n",
    "        return triplets\n",
    "\n",
    "            \n",
    "print(threeSum(0,[-1,0,1,2,-1,-4]))\n",
    "\n",
    "\n"
   ]
  },
  {
   "cell_type": "code",
   "execution_count": 4,
   "metadata": {},
   "outputs": [],
   "source": [
    "auth = ['krntbsr14704', 'o678r18vhs00', 'zn44p1r73e89', 'mddv254b3s02', '4mad3mep4hxc', 'a2i73loyb65l', 'lkq9ho0hp6fv', '8nr4f33a0634', 'gc50q197x1ej', 'fn3z0p2bc8or', '452237039o13', '7r476gx9ve1s', '6x53pbxvtt63', '6zs0qq6lax32', '6acui7wcn7m5', '637y4r3p1ewa', 'uy0i29c3hd58', '3m4661n59o2q', 'dxynt2067p9a', 'w8oatd70s7d2', 'nc51t4518l31', 'sj4ys23d8k7c', '24r8980rhg1p', 'qd8lu8d001o2', '9d652qu64if5', 'qfxv057bs8g4', '09oo70ii3586', '2478h9w16698', 'x11tvx18wkka', 'ta4bgps0397s', 'n1v78fq48nhn', '37n84hx8ld2c', '43634gt88605', '4j6n2jw74ef0', 'yc6txrqdc4rb', '3rfj66863tpx', 'a811m4z16th5', 'mgyze05uo3yk', 'try8uxbz4o05', 'fsc5u619288f', '76c699g3n1u0', '95qbp1j7006o', '466b55i7p46p', 'nj082gv4f1a8', 'd6kf31d8wy0c', 'f58q15j1pi2v', '2mm3n7j83f51', 'x12v0c52n531', '14r4r5l3bw71', 'b5vdzr8p485x', 'ksp65focw3ws', 'h82vzk79kvoj', '00cxc3tf4y7e', 'ust54bu3zuhl', '27v3z9u842g5', 'v60bo4rd8684', 'a9hxolx26v50', 'qgv2ap2d74h6', '00e59x96ibec', '7271d6o64jng', '2cs723yyemw9', 'h1k096j2s97y', 'e0d8yw4mt381', 'k7o16mdly0p6', '5bpz192h1306', '8tqdw91bh3n9', 'qf5e7u236w45', 'g12i7125583t', 'hea381306ur3', '2v9c3cc80lum', 'ceu307f4t2hx', 'p8r0e154wty1', 'ys3m8kk4q606', '94860i2x7u3r', '102g5mdkgwpn', '65723tj7a9qp', '9c7n0782elcb', 'v805rl2n82uh', '3vu43k5k69xz', 'qiqr5s74y97r', 'ckwsak5aua1s', 'b2t183n1h933', 'kpd94nsp9l76', '3m37qw553m01', 'uw919law7ppx', '48bn5337c2cm', '967ihmseuo35', '20haa7dwkc3e', '4b0177d35e99', 'a836f8d7wght', '73k3lv9t2796', 'ylu1a7qlhg1b', 't8jxx8inab68', 'f77iym0mrzel', 'g5p8g87h9r7p', 'wk629zrwy153', 'u84vb94z764b', '48149vwll7cn', 'ut3f45nyf09p', 'z2675486k489', '065r3j845p12', '00x8v43gjzr5', 'sp8y622o2z45', '4614c259yk5y', '73q8py30y149', '9l3gg2zbqyt7', '952ljj105469', '76t33erm4c71', 's4a4dm714eqg', '1xb541nvo4ti', '1ku37b23db45', '3spq3v99gkd2', '01985m8ugj7v', '9q4uex4i4hq2', '2ub62299b9yy', '8f72qf9875h4', '32g7kvkx3pjy', '3139wt4p5404', '789rvc5b33qo', '5mfe06jjejd3', 'j6m7418m3y38', '61mc2u2hsj4p', '70u0d6shlryk', '8pf6q7uev447', '1w78hqlj2g25', '9q1922v44aod', 's4t5afx5a1mj', '5c9g7yxt4d0t', '1ut9y31m112g', 'a51wq1n22n8c', '5q7ug1js2qqb', '6on551m5ereu', 'tb65kza15y53', '70sl2qigk435', 'og6b6f49q5t0', 'jz0l9874k03c', 'rpbe325hi284', 'ibb93m0313w4', '500ex18cbijj', 'mgg99vnz8nrf', 'jc9gkib81lin', '5zze5d43nfgt', '3vcel3w795tb', '02x05s708p64', 'dtu8u2ktae5c', '0teg11dm7jf8', '5pv1y3bg8t54', 'l9m6wsjl37xs', 'gr5pi09t7oal', 'hiy441f57t93', '939q11d74n34', 'xhs731xix21n', 'ku9trf2o3n9n', '3gg9y4n9736c', '56m5v58286pi', '97pro2azz9kw', 'o8m04w7a7d48', '3bw5la2qn0tc', 'm2hw0cbk1h35', 'o80d5z986om1', 'r42n1wce330b', 'lnt8ve2azo5v', '7l99cw690315', '8cp456gyaq68', '57j1f6d71r6s', 'nf23n6907682', 'fd0umhd79lgu', 'ihwv75pl97w2', '272a836vd38p', 'i089k66b61a6', '192362wv0767', '7usy4kigo6mm', '78y030eq5ru2', '1220p71j4b01', '2ywrp29gkp8z', 'r3651rxx214j', '095oq5hyztlb', '26r5ws48f4j5', '3sdcwxc2p0o8', '41n5jpquxo85', '37m914360zs2', 'dkuudt7pmx73', '885q56ybu9gy', '23529034908a', '08c1sw1p0i1i', '1e5d9q81c55d', '67cm6t4sbk88', 'e24xb1te7gx6', '1o7m74409u0d', 'p8kv42vyf210', 'd5hh1644d8wd', 'h7yf4p7149xc', '2c37ooa380kn', '3i4112zmi2lh', '5y37urixftob', 'j5m620rj0355', 'qv8r46ek4l4t', 'tal09wyc0g11', 'rh2lf83ee572', '57nk14bm3s8j', 'hft4fvymx70y', '238lusr9t759', '08468h57rtv7', '515c8fsyc422', 'ier6b1uj9ei6', 'm9yn2tm7x514', '0j8siv765273', '3j062kfkm8t3', '6la25jl65mf2', 'q25p32hoq865', '9wzj6c666wwu', '3gxe1kqxfd0f', '5z3z2u666mg5', 'p33745ql95k0', 's7518o269n2u', '957834195lk8', 'lc5j62uxyh3b', 'l7b0i4hxdmj5', '22ad8gz0t4vi', 'zq0k74p35f13', 't9e4s5v39h2q', 'i802ol424n89', '985gl1u0ie71', '6hbm8u54tv3g', 'x2q9b2x9a3w6', '530fmq0490e0', '9n3885i8851f', '230du1xo09rd', '37x7fq0r8q6s', '58ds81j6ezjv', '5c6299768rci', 'h2vy27vt9q93', '150wgnjd784b', '8xu65843dg4b', '40c10l5g294b', 'k96xcnm1ox2l', '114eav1r2zy3', 'iohhr033q852', 'ul2j8zupaoyn', '2z382vpvzjbf', 'p93mcr613sd7', 'wfs7fog01e6o', '8b1a675fk672', 'tg4k9hyao6lj', 'y50xtrc7mzw2', '70rxmk3706mu', 'c410kpn8e1l0', 'cy010920bo1v', '428tf2wmcm1w', 'j6i48b256my4', 'k54k29598y22', '8y5i1190w3cz', '8b9w7dz06x8v', 'ejbu59xo3rb2', '379zbutb70s1', 'rz96gz51fkv7', '1w7t9978w0k1', '35t096zs7ba2', '6at7161yrfq3', '5h7rm6dlhec8', 'r57phz1joh6p', '3734bt2073qe', '9r277jeqj71o', 'gi2586cuf3t0', 'mbh854p7514u', '6u7eyvtn2i0y', 'u9u0s2u2wx39', 'jtotuk243el9', 'jll27h3y8ak8', '6g395qyv4yq1', 'yy62006t4677', 'd1khellyfz02', '63zmf2358rn8', 'mae0w236kx3f', '4w7j39b5lwiw', '642t2hk56676', '3ht303d7wko1', '0mwy58qddelb', 'l455e2br8uaq', 'tqif6463j811', 'cln3yv72zn77', '7m8rr75b9002', 'm063y50bp0l4', 'u6f14057y0e1', '77ou7lq48e64', '0qbx4hgsg7b8', '0692ro71uy3x', 'x267ls5c57sh', 'i5u14t47f5q2', 'hq7gza08sp33', '6api1h7i315z', 'oq0wd7t0lt8u', '8hyr479wns60', '4g6x69vy858a', '6y643s61wee4', '5k4061y1j01c', 'h682j44802m9', 'b33n2345h8zx', 't6mik92317kl', '8eh2bl099416', '252qq8882hgp', '41iys8859qsx', 'dj280329xso1', 'm4wpbwj532q2', 'gkk882366mf5', '964o1wpun1jn', '0n18da6a467w', '53rb4qa28v3w', 'r00z112ivkyl', 'af66mu735c2i', 'n5764421b098', '70zs656au3o9', '196p7h31xbl3', '6j558hmxh915', 'd862asq63c8i', 'z5g14614ih7m', 'unz6e42b8ns5', '4683p77671mn', '249791ck48y7', '4664xn9m3362', '1v51bnmhn0k7', 'gb6x62b83141', '0btvhpc9yr01', 'eaagl8z2v7tm', 't479p1k0lnu7', 'uietil88ja1f', '8do5r375227o', '857605i48m89', '7ujgio6203i4', 'n5k9zrljk7hx', 'h1qbfu2xyb3t', 'r8b3xq8yr72g', 'rjnul6a76b8m', '46c01wxlc13y', 'be89wfli629r', '9kvirnj439jh', '583o6equ6tls', '9f71p18873au', '7y73tb2wmtu8', 'ivl66te9kkw7', '8yj0bg4dfr0u', 'u05en4e5454k', 'd8lf4jiq0my8', 'm71s522r6owo', 'alv3k784xgj0', '60xj19962r6p', 'n3179v9si5t6', '6l08011d4ftg', '812sr05v1kw6', 'i5qc9lco7s8x', '873026wszwq6', '3if0rf5h7aj6', '99gf49rgt6cw', 'q5a1plky658q', '3kbsj28p56x3', '72l7h6d758n1', 'dksymuo9nuy6', 'a77039nuuo3f', '6tkak5bajqq0', 'v9e512c16nmb', 'e2683b3320s1', '5wig092k1bm6', 'f2rk9ez7m4j1', 'j009vr4lhic4', '030636r89i6x', 'fw21u82l991j', 'xt88le700ng8', 'js5ifel1rd39', 'imk6rjir4mgl', 'zyvp0hzeow08', '1i94t5w1755w', 'zbm28g60g26x', 'h206io7xxs2l', 'm2b55urtv313', 'x1pu9yusw03g', 'vj2x770a6o94', '0969y0g8kbq9', 'g25ivtya5vgk', 'h494509h1x40', 'bj96709e48l9', 'xtzs6w3mvji7', 'dwn8a712ma1a', '92138i19873m', 'gxv7fs5coxji', 'yj9732pqa9vb', '26lb5756vkjh', 'fphx5314fm8t', 'e3v8g1989z4f', '40j21en1lgm7', 'y49aod2o68g8', '7cmv2k4240d6', '9tozn3q608lz', '7c3p83yd18nc', '5h14hxd2rt62', 'k9lx55dw1c0m', '4f88gl8unk1f', 'oeks0n26pp8k', 'jlrt0xb80z8f', 'cw8z5369t11q', 'e161gf58oojg', '643381pq1tki', 'j20yp38efy97', 'dx135i5rszy3', '98859r6vp97u', '5gvi70xkql8k', '8v15m584ktv7', 'u8dtl852hkm8', '6j24j3o3a3lp', '7dhs1svhymem', 'wh460110i4tn', 'e35h58m9p71n', 'e64d139m316d', '2464hresfkuh', 'he7k5ec7343q', '391gqj9vgbo0', '35orydp7c945', '95mqjc0ny49k', '2l300ruojeph', 'fmf26rl4i8x2', 'pb84e45jwno4', 'tg685054mhaa', '2ue300v5x3k5', '9jqr6n2nji8e', '0d5kv44ya010', 'a2lhp9qo71db', '93d492isi897', 'o7b2b264w0f6', '9x7qyq0d295x', 'p8v2dl81fw67', 'x6r877sguqz4', 'gk6q50gb0jma', '11k8wb1nu7gg', 'pqor117u7l4s', 'r5409lt84865', 'fk9r2t752599', 'i6315f2w9mp8', 'm884s4s2kw21', '9c8w5ttg1so0', 'y9xyd99j821o', 'r4j4b8w0k0tn', 'a1624kxjofsz', 'qwindae6f4ff', 'o43ubvgt6li7', '20gi949hxzw2', 'asfiz7c7gofw', '954lp69f67c3', '92jvg2z9195i', '193aqol206sz', 'ajre0a13g39z', 'yzv8d35y06sm', 'ekp50o4n3k2k', '4v49o15sy4a0', '16puu76juqsd', '7b61pw5ly9d9', '3cq428bp11x0', 'v89wc32vebmo', '4z699a3x16be', 'v8uzos7618n9', 'e2b9zkq30i24', 's5jjkf2648e2', '4w26011lsl56', '968ekz32p6v8', 'qlsv5cj2c9d8', 'sdv8gy9i8784', '0179wu015a01', '8ohpi3wg57g2', 'et5ug9w0np2r', 'zq009i0p5w4c', '3ehozlu9os26', '76i0v56ih862', 'u1z3jka7jbks', 'h8y7g9y7jt60', '3wh8t92ayday', '7297542c7a2q', 'i57dtg48579j', '9uvq5134bgv2', '188041r6opfl', '12s14wq5nhw2', '71bc65860pky', 'yg1swff10fjy', '406859304478', 'r4qh9po0d524', 'kf96o149r8hy', 'c7nv769xmj1j', 'sr289hrzyjeg', 'z45to0477z64', 'uzu7a8z5eh8i', '080ru78kbay7', 'j9bn8g5js7tv', 'qf45t2e66qkc', 'm972ndxjx6jy']\n",
    "req = [['POST', 'https://example.com/?token=ceu307f4t2hx&id=w7fxx']]\n"
   ]
  },
  {
   "cell_type": "code",
   "execution_count": 5,
   "metadata": {},
   "outputs": [
    {
     "name": "stdout",
     "output_type": "stream",
     "text": [
      "['krntbsr14704', 'o678r18vhs00', 'zn44p1r73e89', 'mddv254b3s02', '4mad3mep4hxc', 'a2i73loyb65l', 'lkq9ho0hp6fv', '8nr4f33a0634', 'gc50q197x1ej', 'fn3z0p2bc8or', '452237039o13', '7r476gx9ve1s', '6x53pbxvtt63', '6zs0qq6lax32', '6acui7wcn7m5', '637y4r3p1ewa', 'uy0i29c3hd58', '3m4661n59o2q', 'dxynt2067p9a', 'w8oatd70s7d2', 'nc51t4518l31', 'sj4ys23d8k7c', '24r8980rhg1p', 'qd8lu8d001o2', '9d652qu64if5', 'qfxv057bs8g4', '09oo70ii3586', '2478h9w16698', 'x11tvx18wkka', 'ta4bgps0397s', 'n1v78fq48nhn', '37n84hx8ld2c', '43634gt88605', '4j6n2jw74ef0', 'yc6txrqdc4rb', '3rfj66863tpx', 'a811m4z16th5', 'mgyze05uo3yk', 'try8uxbz4o05', 'fsc5u619288f', '76c699g3n1u0', '95qbp1j7006o', '466b55i7p46p', 'nj082gv4f1a8', 'd6kf31d8wy0c', 'f58q15j1pi2v', '2mm3n7j83f51', 'x12v0c52n531', '14r4r5l3bw71', 'b5vdzr8p485x', 'ksp65focw3ws', 'h82vzk79kvoj', '00cxc3tf4y7e', 'ust54bu3zuhl', '27v3z9u842g5', 'v60bo4rd8684', 'a9hxolx26v50', 'qgv2ap2d74h6', '00e59x96ibec', '7271d6o64jng', '2cs723yyemw9', 'h1k096j2s97y', 'e0d8yw4mt381', 'k7o16mdly0p6', '5bpz192h1306', '8tqdw91bh3n9', 'qf5e7u236w45', 'g12i7125583t', 'hea381306ur3', '2v9c3cc80lum', 'ceu307f4t2hx', 'p8r0e154wty1', 'ys3m8kk4q606', '94860i2x7u3r', '102g5mdkgwpn', '65723tj7a9qp', '9c7n0782elcb', 'v805rl2n82uh', '3vu43k5k69xz', 'qiqr5s74y97r', 'ckwsak5aua1s', 'b2t183n1h933', 'kpd94nsp9l76', '3m37qw553m01', 'uw919law7ppx', '48bn5337c2cm', '967ihmseuo35', '20haa7dwkc3e', '4b0177d35e99', 'a836f8d7wght', '73k3lv9t2796', 'ylu1a7qlhg1b', 't8jxx8inab68', 'f77iym0mrzel', 'g5p8g87h9r7p', 'wk629zrwy153', 'u84vb94z764b', '48149vwll7cn', 'ut3f45nyf09p', 'z2675486k489', '065r3j845p12', '00x8v43gjzr5', 'sp8y622o2z45', '4614c259yk5y', '73q8py30y149', '9l3gg2zbqyt7', '952ljj105469', '76t33erm4c71', 's4a4dm714eqg', '1xb541nvo4ti', '1ku37b23db45', '3spq3v99gkd2', '01985m8ugj7v', '9q4uex4i4hq2', '2ub62299b9yy', '8f72qf9875h4', '32g7kvkx3pjy', '3139wt4p5404', '789rvc5b33qo', '5mfe06jjejd3', 'j6m7418m3y38', '61mc2u2hsj4p', '70u0d6shlryk', '8pf6q7uev447', '1w78hqlj2g25', '9q1922v44aod', 's4t5afx5a1mj', '5c9g7yxt4d0t', '1ut9y31m112g', 'a51wq1n22n8c', '5q7ug1js2qqb', '6on551m5ereu', 'tb65kza15y53', '70sl2qigk435', 'og6b6f49q5t0', 'jz0l9874k03c', 'rpbe325hi284', 'ibb93m0313w4', '500ex18cbijj', 'mgg99vnz8nrf', 'jc9gkib81lin', '5zze5d43nfgt', '3vcel3w795tb', '02x05s708p64', 'dtu8u2ktae5c', '0teg11dm7jf8', '5pv1y3bg8t54', 'l9m6wsjl37xs', 'gr5pi09t7oal', 'hiy441f57t93', '939q11d74n34', 'xhs731xix21n', 'ku9trf2o3n9n', '3gg9y4n9736c', '56m5v58286pi', '97pro2azz9kw', 'o8m04w7a7d48', '3bw5la2qn0tc', 'm2hw0cbk1h35', 'o80d5z986om1', 'r42n1wce330b', 'lnt8ve2azo5v', '7l99cw690315', '8cp456gyaq68', '57j1f6d71r6s', 'nf23n6907682', 'fd0umhd79lgu', 'ihwv75pl97w2', '272a836vd38p', 'i089k66b61a6', '192362wv0767', '7usy4kigo6mm', '78y030eq5ru2', '1220p71j4b01', '2ywrp29gkp8z', 'r3651rxx214j', '095oq5hyztlb', '26r5ws48f4j5', '3sdcwxc2p0o8', '41n5jpquxo85', '37m914360zs2', 'dkuudt7pmx73', '885q56ybu9gy', '23529034908a', '08c1sw1p0i1i', '1e5d9q81c55d', '67cm6t4sbk88', 'e24xb1te7gx6', '1o7m74409u0d', 'p8kv42vyf210', 'd5hh1644d8wd', 'h7yf4p7149xc', '2c37ooa380kn', '3i4112zmi2lh', '5y37urixftob', 'j5m620rj0355', 'qv8r46ek4l4t', 'tal09wyc0g11', 'rh2lf83ee572', '57nk14bm3s8j', 'hft4fvymx70y', '238lusr9t759', '08468h57rtv7', '515c8fsyc422', 'ier6b1uj9ei6', 'm9yn2tm7x514', '0j8siv765273', '3j062kfkm8t3', '6la25jl65mf2', 'q25p32hoq865', '9wzj6c666wwu', '3gxe1kqxfd0f', '5z3z2u666mg5', 'p33745ql95k0', 's7518o269n2u', '957834195lk8', 'lc5j62uxyh3b', 'l7b0i4hxdmj5', '22ad8gz0t4vi', 'zq0k74p35f13', 't9e4s5v39h2q', 'i802ol424n89', '985gl1u0ie71', '6hbm8u54tv3g', 'x2q9b2x9a3w6', '530fmq0490e0', '9n3885i8851f', '230du1xo09rd', '37x7fq0r8q6s', '58ds81j6ezjv', '5c6299768rci', 'h2vy27vt9q93', '150wgnjd784b', '8xu65843dg4b', '40c10l5g294b', 'k96xcnm1ox2l', '114eav1r2zy3', 'iohhr033q852', 'ul2j8zupaoyn', '2z382vpvzjbf', 'p93mcr613sd7', 'wfs7fog01e6o', '8b1a675fk672', 'tg4k9hyao6lj', 'y50xtrc7mzw2', '70rxmk3706mu', 'c410kpn8e1l0', 'cy010920bo1v', '428tf2wmcm1w', 'j6i48b256my4', 'k54k29598y22', '8y5i1190w3cz', '8b9w7dz06x8v', 'ejbu59xo3rb2', '379zbutb70s1', 'rz96gz51fkv7', '1w7t9978w0k1', '35t096zs7ba2', '6at7161yrfq3', '5h7rm6dlhec8', 'r57phz1joh6p', '3734bt2073qe', '9r277jeqj71o', 'gi2586cuf3t0', 'mbh854p7514u', '6u7eyvtn2i0y', 'u9u0s2u2wx39', 'jtotuk243el9', 'jll27h3y8ak8', '6g395qyv4yq1', 'yy62006t4677', 'd1khellyfz02', '63zmf2358rn8', 'mae0w236kx3f', '4w7j39b5lwiw', '642t2hk56676', '3ht303d7wko1', '0mwy58qddelb', 'l455e2br8uaq', 'tqif6463j811', 'cln3yv72zn77', '7m8rr75b9002', 'm063y50bp0l4', 'u6f14057y0e1', '77ou7lq48e64', '0qbx4hgsg7b8', '0692ro71uy3x', 'x267ls5c57sh', 'i5u14t47f5q2', 'hq7gza08sp33', '6api1h7i315z', 'oq0wd7t0lt8u', '8hyr479wns60', '4g6x69vy858a', '6y643s61wee4', '5k4061y1j01c', 'h682j44802m9', 'b33n2345h8zx', 't6mik92317kl', '8eh2bl099416', '252qq8882hgp', '41iys8859qsx', 'dj280329xso1', 'm4wpbwj532q2', 'gkk882366mf5', '964o1wpun1jn', '0n18da6a467w', '53rb4qa28v3w', 'r00z112ivkyl', 'af66mu735c2i', 'n5764421b098', '70zs656au3o9', '196p7h31xbl3', '6j558hmxh915', 'd862asq63c8i', 'z5g14614ih7m', 'unz6e42b8ns5', '4683p77671mn', '249791ck48y7', '4664xn9m3362', '1v51bnmhn0k7', 'gb6x62b83141', '0btvhpc9yr01', 'eaagl8z2v7tm', 't479p1k0lnu7', 'uietil88ja1f', '8do5r375227o', '857605i48m89', '7ujgio6203i4', 'n5k9zrljk7hx', 'h1qbfu2xyb3t', 'r8b3xq8yr72g', 'rjnul6a76b8m', '46c01wxlc13y', 'be89wfli629r', '9kvirnj439jh', '583o6equ6tls', '9f71p18873au', '7y73tb2wmtu8', 'ivl66te9kkw7', '8yj0bg4dfr0u', 'u05en4e5454k', 'd8lf4jiq0my8', 'm71s522r6owo', 'alv3k784xgj0', '60xj19962r6p', 'n3179v9si5t6', '6l08011d4ftg', '812sr05v1kw6', 'i5qc9lco7s8x', '873026wszwq6', '3if0rf5h7aj6', '99gf49rgt6cw', 'q5a1plky658q', '3kbsj28p56x3', '72l7h6d758n1', 'dksymuo9nuy6', 'a77039nuuo3f', '6tkak5bajqq0', 'v9e512c16nmb', 'e2683b3320s1', '5wig092k1bm6', 'f2rk9ez7m4j1', 'j009vr4lhic4', '030636r89i6x', 'fw21u82l991j', 'xt88le700ng8', 'js5ifel1rd39', 'imk6rjir4mgl', 'zyvp0hzeow08', '1i94t5w1755w', 'zbm28g60g26x', 'h206io7xxs2l', 'm2b55urtv313', 'x1pu9yusw03g', 'vj2x770a6o94', '0969y0g8kbq9', 'g25ivtya5vgk', 'h494509h1x40', 'bj96709e48l9', 'xtzs6w3mvji7', 'dwn8a712ma1a', '92138i19873m', 'gxv7fs5coxji', 'yj9732pqa9vb', '26lb5756vkjh', 'fphx5314fm8t', 'e3v8g1989z4f', '40j21en1lgm7', 'y49aod2o68g8', '7cmv2k4240d6', '9tozn3q608lz', '7c3p83yd18nc', '5h14hxd2rt62', 'k9lx55dw1c0m', '4f88gl8unk1f', 'oeks0n26pp8k', 'jlrt0xb80z8f', 'cw8z5369t11q', 'e161gf58oojg', '643381pq1tki', 'j20yp38efy97', 'dx135i5rszy3', '98859r6vp97u', '5gvi70xkql8k', '8v15m584ktv7', 'u8dtl852hkm8', '6j24j3o3a3lp', '7dhs1svhymem', 'wh460110i4tn', 'e35h58m9p71n', 'e64d139m316d', '2464hresfkuh', 'he7k5ec7343q', '391gqj9vgbo0', '35orydp7c945', '95mqjc0ny49k', '2l300ruojeph', 'fmf26rl4i8x2', 'pb84e45jwno4', 'tg685054mhaa', '2ue300v5x3k5', '9jqr6n2nji8e', '0d5kv44ya010', 'a2lhp9qo71db', '93d492isi897', 'o7b2b264w0f6', '9x7qyq0d295x', 'p8v2dl81fw67', 'x6r877sguqz4', 'gk6q50gb0jma', '11k8wb1nu7gg', 'pqor117u7l4s', 'r5409lt84865', 'fk9r2t752599', 'i6315f2w9mp8', 'm884s4s2kw21', '9c8w5ttg1so0', 'y9xyd99j821o', 'r4j4b8w0k0tn', 'a1624kxjofsz', 'qwindae6f4ff', 'o43ubvgt6li7', '20gi949hxzw2', 'asfiz7c7gofw', '954lp69f67c3', '92jvg2z9195i', '193aqol206sz', 'ajre0a13g39z', 'yzv8d35y06sm', 'ekp50o4n3k2k', '4v49o15sy4a0', '16puu76juqsd', '7b61pw5ly9d9', '3cq428bp11x0', 'v89wc32vebmo', '4z699a3x16be', 'v8uzos7618n9', 'e2b9zkq30i24', 's5jjkf2648e2', '4w26011lsl56', '968ekz32p6v8', 'qlsv5cj2c9d8', 'sdv8gy9i8784', '0179wu015a01', '8ohpi3wg57g2', 'et5ug9w0np2r', 'zq009i0p5w4c', '3ehozlu9os26', '76i0v56ih862', 'u1z3jka7jbks', 'h8y7g9y7jt60', '3wh8t92ayday', '7297542c7a2q', 'i57dtg48579j', '9uvq5134bgv2', '188041r6opfl', '12s14wq5nhw2', '71bc65860pky', 'yg1swff10fjy', '406859304478', 'r4qh9po0d524', 'kf96o149r8hy', 'c7nv769xmj1j', 'sr289hrzyjeg', 'z45to0477z64', 'uzu7a8z5eh8i', '080ru78kbay7', 'j9bn8g5js7tv', 'qf45t2e66qkc', 'm972ndxjx6jy']\n",
      "[['POST', 'https://example.com/?token=ceu307f4t2hx&id=w7fxx']]\n",
      "['INVALID']\n"
     ]
    }
   ],
   "source": [
    "#!/bin/python3\n",
    "\n",
    "import math\n",
    "import os\n",
    "import random\n",
    "import re\n",
    "import sys\n",
    "\n",
    "\n",
    "\n",
    "#\n",
    "# Complete the 'getResponses' function below.\n",
    "#\n",
    "# The function is expected to return a STRING_ARRAY.\n",
    "# The function accepts following parameters:\n",
    "#  1. STRING_ARRAY valid_auth_tokens\n",
    "#  2. 2D_STRING_ARRAY requests\n",
    "#\n",
    "\n",
    "def isValidCsrf(s):\n",
    "    return len(s) >= 8 and s.isalnum() and s.islower()\n",
    "\n",
    "def getParams(url):\n",
    "    index = url.find(\"?\")\n",
    "    if index == -1: return [] \n",
    "    params = url[index + 1:] \n",
    "    return [param.split(\"=\") for param in params.split(\"&\") if \"=\" in param]\n",
    "        \n",
    "    \n",
    "\n",
    "def getResponses(valid_auth_tokens, requests):\n",
    "    print(valid_auth_tokens)\n",
    "    print(requests)\n",
    "    \n",
    "    ans = []\n",
    "    for request in requests:\n",
    "        url = request[1]\n",
    "        \n",
    "        # if url.find(\"?\") > url.find(\"&\") and len(params) != 1:\n",
    "        #     ans.append(\"INVALID\")\n",
    "        #     continue\n",
    "        \n",
    "        params = getParams(url)\n",
    "        \n",
    "        \n",
    "        if params[0][1] not in valid_auth_tokens:\n",
    "            ans.append(\"INVALID\")\n",
    "            continue\n",
    "            \n",
    "        #remove token\n",
    "        params.pop(0) \n",
    "        \n",
    "        if request[0] == \"POST\":\n",
    "            if not isValidCsrf(params[0][1]): \n",
    "                ans.append(\"INVALID\")\n",
    "                continue\n",
    "            params.pop(0)\n",
    "        \n",
    "        string = \"VALID\"\n",
    "        for [key, value] in params:\n",
    "            if key != 'csrf_token':\n",
    "                string += f\",{key},{value}\"\n",
    "        \n",
    "        ans.append(string)\n",
    "    \n",
    "    return ans\n",
    "        \n",
    "            \n",
    "print(getResponses(auth, req))    \n",
    "            \n",
    "            \n",
    "\n",
    "\n"
   ]
  },
  {
   "cell_type": "code",
   "execution_count": 14,
   "metadata": {},
   "outputs": [],
   "source": [
    "def getMinimumMoves(price, k):\n",
    "    # Write your code here\n",
    "    \n",
    "    price.sort()  \n",
    "    n = len(price)\n",
    "    median = n//2\n",
    "    \n",
    "    if k == price[median]:\n",
    "        return 0\n",
    "\n",
    "    \n",
    "    # if k not in price:\n",
    "        \n",
    "    changed = [0,0]\n",
    "    increasingMoves = 0\n",
    "    for i in range(median, n):\n",
    "        \n",
    "        if price[i] < k:\n",
    "            increasingMoves += k - price[i]\n",
    "            changed[0] = 1\n",
    "            \n",
    "            if i == median:\n",
    "                break\n",
    "        else:\n",
    "            break\n",
    "    decreasingMoves = 0\n",
    "    for i in range(median, -1, -1):\n",
    "        if price[i] > k:\n",
    "            decreasingMoves += price[i] - k\n",
    "            changed[1] = 1\n",
    "            if i == median:\n",
    "                break\n",
    "        else:\n",
    "            break\n",
    "    \n",
    "    if changed == [1,1]:\n",
    "        return min(increasingMoves, decreasingMoves)\n",
    "    elif changed == [0,1]:\n",
    "        return decreasingMoves\n",
    "    else:\n",
    "        return increasingMoves"
   ]
  },
  {
   "cell_type": "code",
   "execution_count": 15,
   "metadata": {},
   "outputs": [
    {
     "name": "stdout",
     "output_type": "stream",
     "text": [
      "1\n"
     ]
    }
   ],
   "source": [
    "input = [4,\n",
    "2,\n",
    "1,\n",
    "4,\n",
    "7]\n",
    "\n",
    "print(getMinimumMoves(input, 3))"
   ]
  }
 ],
 "metadata": {
  "kernelspec": {
   "display_name": "Python 3",
   "language": "python",
   "name": "python3"
  },
  "language_info": {
   "codemirror_mode": {
    "name": "ipython",
    "version": 3
   },
   "file_extension": ".py",
   "mimetype": "text/x-python",
   "name": "python",
   "nbconvert_exporter": "python",
   "pygments_lexer": "ipython3",
   "version": "3.9.7"
  }
 },
 "nbformat": 4,
 "nbformat_minor": 2
}
