{
 "cells": [
  {
   "cell_type": "markdown",
   "metadata": {},
   "source": [
    "# Personal Solution\n",
    "- Two binary Search Solution\n",
    "- Kinda janky\n",
    "- O(log n)"
   ]
  },
  {
   "cell_type": "code",
   "execution_count": null,
   "metadata": {},
   "outputs": [],
   "source": [
    "from Typing import List\n",
    "class Solution:\n",
    "    def searchRange(self, nums: List[int], target: int) -> List[int]:\n",
    "        '''\n",
    "        Sol 1: Use two binary searches, one that finds the right most insertion point, and one that inserts at the left most\n",
    "        time complexity = 2O(logn) = O(log n)\n",
    "        '''\n",
    "\n",
    "        def findLowerBounds():\n",
    "            l, r = 0, len(nums) - 1\n",
    "\n",
    "            while l < r:\n",
    "                m = (l + r)//2\n",
    "\n",
    "                if nums[m] >= target:\n",
    "                    if nums[m] == target and (m-1) >= 0 and nums[m-1] != target:\n",
    "                        return m\n",
    "                    else:\n",
    "                        r = m-1\n",
    "                else:\n",
    "                    l = m + 1\n",
    "\n",
    "            return l if nums[l] == target else -1\n",
    "\n",
    "        def findUpperBounds():\n",
    "            l, r = 0, len(nums) - 1\n",
    "\n",
    "            while l < r:\n",
    "                m = (l + r)//2\n",
    "\n",
    "                if nums[m] <= target:\n",
    "                    if nums[m] == target and (m+1) < len(nums) and nums[m+1] != target:\n",
    "                        return m\n",
    "                    else:\n",
    "                        l = m+1\n",
    "                else:\n",
    "                    r = m - 1\n",
    "\n",
    "            return r if nums[r] == target else -1\n",
    "\n",
    "\n",
    "        return [findLowerBounds(), findUpperBounds()] if len(nums) > 0 else [-1,-1]\n"
   ]
  },
  {
   "cell_type": "markdown",
   "metadata": {},
   "source": [
    "# Discussion Solution (Cleaner implementation)"
   ]
  },
  {
   "cell_type": "code",
   "execution_count": null,
   "metadata": {},
   "outputs": [],
   "source": [
    "class Solution:\n",
    "    def searchRange(self, nums: List[int], target: int) -> List[int]:\n",
    "        if len(nums) == 0: return [-1, -1]\n",
    "\n",
    "        def searchLow(nums, target):\n",
    "            head, tail = 0, len(nums) - 1\n",
    "            while head <= tail:\n",
    "                mid = (head + tail)//2\n",
    "                if nums[mid] >= target:\n",
    "                    tail = mid - 1\n",
    "                else:\n",
    "                    head = mid + 1\n",
    "            return head\n",
    "\n",
    "        def searchHigh(nums, target):\n",
    "            head, tail = 0, len(nums) - 1\n",
    "            while head <= tail:\n",
    "                mid = (head + tail)//2\n",
    "                if nums[mid] > target:\n",
    "                    tail = mid - 1\n",
    "                else:\n",
    "                    head = mid + 1\n",
    "            return tail\n",
    "\n",
    "        start = searchLow(nums, target)\n",
    "        end = searchHigh(nums, target)\n",
    "        if 0 <= start < len(nums) and start <= end and nums[start] == target:\n",
    "            return [start, end]\n",
    "        else:\n",
    "            return [-1, -1]\n"
   ]
  }
 ],
 "metadata": {
  "language_info": {
   "name": "python"
  }
 },
 "nbformat": 4,
 "nbformat_minor": 2
}
