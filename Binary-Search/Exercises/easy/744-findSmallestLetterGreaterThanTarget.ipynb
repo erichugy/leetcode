{
 "cells": [
  {
   "cell_type": "markdown",
   "metadata": {},
   "source": [
    "# Algorithm\n",
    "1) Create three integers left = 0, right = letters.length - 1 and mid to start the binary search algorithm.\n",
    "\n",
    "2) <b>While `left <= right`:</b>\n",
    "    - Find the midpoint of the `range (left, right)` in the variable `mid = (left + right) / 2`.\n",
    "    - Compare the letter at index `mid` with `target`. If `letters[mid] <= target`, it means all the characters at indices smaller or equal to `mid` would also be smaller than `target` because the characters in `letters` are sorted. As a result, we move to upper half of the range by setting `left = mid + 1`.\n",
    "    - Otherwise, it means all the characters at indices greater or equal to `mid` would also be greater than `target` because the characters in `letters` are sorted. As a result, we move to lower half of the range by setting `right = mid - 1`.\n",
    "    - At the end of the binary search algorithm, `left` will store the index of the smallest character that is lexicographically greater than `target`.\n",
    "3) If ```left == letters.length```, it means there is no character in letters that is lexicographically greater than `target`. We return ```letters[0]```. Otherwise, we return `letters[left]` as `left` holds the smallest character greater than `target`.\n",
    "Implementation\n",
    "\n",
    "# Complexity Analysis\n",
    "Here `n` is the number of characters in letters.\n",
    "\n",
    "## Time complexity: \n",
    "- `O(log⁡n)`\n",
    "\n",
    "We perform `O(logn)` iterations using the binary search algorithm as the problem set is divided into half in each iteration.\n",
    "\n",
    "## Space complexity: \n",
    "- `O(1)`\n",
    "\n",
    "Except for a few variables `left`, `right`, and `mid` which take constant space each, we do not consume any other space.\n"
   ]
  },
  {
   "cell_type": "code",
   "execution_count": null,
   "metadata": {},
   "outputs": [],
   "source": [
    "class Solution:\n",
    "    def nextGreatestLetter(self, letters: List[str], target: str) -> str:\n",
    "        left = 0\n",
    "        right = len(letters) - 1\n",
    "\n",
    "        while left <= right:\n",
    "            mid = (left + right) // 2\n",
    "            if letters[mid] <= target:\n",
    "                left = mid + 1\n",
    "            else:\n",
    "                right = mid - 1\n",
    "\n",
    "        if left == len(letters):\n",
    "            return letters[0]\n",
    "        else:\n",
    "            return letters[left]\n"
   ]
  },
  {
   "cell_type": "code",
   "execution_count": null,
   "metadata": {},
   "outputs": [],
   "source": [
    "# Personal Sol\n",
    "class Solution:\n",
    "    def nextGreatestLetter(self, letters: List[str], target: str) -> str:\n",
    "\n",
    "\n",
    "        \"\"\"\n",
    "        letters in from smallest to largest\n",
    "        given target\n",
    "        there E >2 diff chars in letters\n",
    "        return smallest char in letters that is greater than target\n",
    "        if there is no greater char, then return the first char\n",
    "\n",
    "\n",
    "        idea: since sorted, use binary search to find position of the character, then to find the smallest char that is greater than it, return the char at index + 1. If the index is out of bounds, return the first element\n",
    "\n",
    "        runtime:\n",
    "        Binary Search: O(log n)\n",
    "        returning elements O(1)\n",
    "\n",
    "\n",
    "        for the binary search,\n",
    "            basically, if arr[i] > target, move left\n",
    "            if arr[i] <= target, move right.\n",
    "            if arr[i] <= target and arr[i+1] > target OR arr[i+1] not in arr then return arr[i] or arr[0]\n",
    "        \"\"\"\n",
    "\n",
    "        l, h = 0, len(letters) - 1\n",
    "\n",
    "        while l <= h and (m := (l + h)//2) < len(letters):\n",
    "            if letters[m] <= target:\n",
    "                if m + 1 < len(letters) and letters[m+1] > target:\n",
    "                    return letters[m+1]\n",
    "                l = m + 1\n",
    "            else: #letters[m] > letters\n",
    "                h = m - 1\n",
    "        return letters[0]\n"
   ]
  }
 ],
 "metadata": {
  "language_info": {
   "name": "python"
  }
 },
 "nbformat": 4,
 "nbformat_minor": 2
}
