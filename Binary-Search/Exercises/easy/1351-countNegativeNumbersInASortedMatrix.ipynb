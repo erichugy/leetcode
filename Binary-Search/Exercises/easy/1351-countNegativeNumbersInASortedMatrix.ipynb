{
 "cells": [
  {
   "cell_type": "markdown",
   "metadata": {},
   "source": [
    "## Naive Solution:\n",
    "\n",
    "- non-increasing means:\n",
    "    - everything to the right of the first neg number is neg\n",
    "    - everything under the first neg number is neg\n",
    "\n",
    "\n",
    "- so we can go row by row and\n",
    "    - find the first neg number\n",
    "    - then on next row, set stop as the position of the first neg number of the prev row\n",
    "        - if you find a newer neg number, set HIGH to position of that num\n",
    "    - use binary search on each row to find the first neg number\n",
    "\n",
    "### Time Complexity:\n",
    "\n",
    "- for every column, O(log m)\n",
    "- there are n rows\n",
    "\n",
    "- so O(n log m)\n"
   ]
  },
  {
   "cell_type": "markdown",
   "metadata": {},
   "source": [
    "## Better solution\n",
    "\n",
    "- start at the top right of the grid:\n",
    "- if the element is neg, go right by 1\n",
    "- else go down by 1\n",
    "- every time you go down, add to total the number of times you went right\n",
    "\n",
    "### Time Complexity: O(m + n)\n",
    "### Space Complexity: O(m + n)\n"
   ]
  },
  {
   "cell_type": "code",
   "execution_count": null,
   "metadata": {},
   "outputs": [],
   "source": [
    "from Typing import List\n",
    "class Solution:\n",
    "    def countNegatives(self, grid: List[List[int]]) -> int:\n",
    "        m = 0\n",
    "        n = len(grid[0]) -1\n",
    "        maxN = len(grid[0]) - 1\n",
    "        total = 0\n",
    "\n",
    "        while m < len(grid):\n",
    "\n",
    "            if n < 0:\n",
    "                total += maxN - n\n",
    "                n = maxN\n",
    "                m += 1\n",
    "                continue\n",
    "\n",
    "            if grid[m][n] >= 0:\n",
    "                total += maxN - n\n",
    "                m += 1\n",
    "            else:\n",
    "                n -= 1\n",
    "        return total\n"
   ]
  },
  {
   "cell_type": "markdown",
   "metadata": {},
   "source": [
    "## Best Solution \n",
    "- dont start on the top right, use binary search with the right of the binary search being able to be set to the position of the last\n",
    "\n",
    "### Time Complexity: O(m log n)\n",
    "### Space Complexity: O(1)\n",
    "    "
   ]
  },
  {
   "cell_type": "code",
   "execution_count": null,
   "metadata": {},
   "outputs": [],
   "source": [
    "\n",
    "class Solution:\n",
    "    def countNegatives(self, grid: List[List[int]]) -> int:\n",
    "        m = 0\n",
    "        maxN = len(grid[0]) - 1\n",
    "        last = maxN\n",
    "        total = 0\n",
    "\n",
    "        while m < len(grid):\n",
    "            l, h = 0, last\n",
    "\n",
    "            while l <= h:\n",
    "                mid = (l + h) //2\n",
    "                if grid[m][mid] < 0:\n",
    "                    # mid\n",
    "                    h = mid - 1\n",
    "                else: #>=0\n",
    "                    l = mid + 1\n",
    "\n",
    "            # at the end, l = h\n",
    "            # and everything to the right of h is negative\n",
    "\n",
    "            total += maxN - h\n",
    "            last = h\n",
    "            m += 1\n",
    "        return total\n"
   ]
  },
  {
   "cell_type": "markdown",
   "metadata": {},
   "source": [
    "## Leetcode's version of best solution:\n",
    "Algorithm\n",
    "Initialize variables:\n",
    "\n",
    "count = 0, to count the total number of negative elements in the matrix.\n",
    "n = grid[0].size(), to store the number of elements in each row.\n",
    "currRowNegativeIndex = n - 1, to store the current row's first negative element's index.\n",
    "For each row of the grid, we decrease currRowNegativeIndex by 1 until we point to the last positive element of the current row. And thus, we know all elements to the right of this pointer will be negative so we add n - (currRowNegativeIndex + 1) to the count.\n",
    "\n",
    "Return count."
   ]
  },
  {
   "cell_type": "code",
   "execution_count": null,
   "metadata": {},
   "outputs": [],
   "source": [
    "class Solution:\n",
    "    def countNegatives(self, grid: List[List[int]]) -> int:\n",
    "        count = 0\n",
    "        n = len(grid[0])\n",
    "        # Iterate on all rows of the matrix one by one.\n",
    "        for row in grid:\n",
    "            # Using binary search find the index\n",
    "            # which has the first negative element.\n",
    "            left, right = 0, n - 1\n",
    "            while left <= right:\n",
    "                mid = (right + left) // 2\n",
    "                if row[mid] < 0:\n",
    "                    right = mid - 1\n",
    "                else:\n",
    "                    left = mid + 1\n",
    "            # 'left' points to the first negative element,\n",
    "            # which means 'n - left' is the number of all negative elements.\n",
    "            count += (n - left)\n",
    "        return count\n"
   ]
  },
  {
   "cell_type": "code",
   "execution_count": null,
   "metadata": {},
   "outputs": [],
   "source": []
  }
 ],
 "metadata": {
  "language_info": {
   "name": "python"
  }
 },
 "nbformat": 4,
 "nbformat_minor": 2
}
