{
 "cells": [
  {
   "cell_type": "code",
   "execution_count": 2,
   "metadata": {},
   "outputs": [],
   "source": [
    "from typing import List"
   ]
  },
  {
   "cell_type": "code",
   "execution_count": 114,
   "metadata": {},
   "outputs": [],
   "source": [
    "class Solution:\n",
    "    def prisonAfterNDays(self, cells: List[int], n: int) -> List[int]:\n",
    "        k = len(cells)\n",
    "        def get_next(cells):\n",
    "            next = [0] * 8\n",
    "            for i in range(1, k -1):\n",
    "                next[i] = 1 if cells[i-1] == cells[i + 1] else 0\n",
    "            cells = next\n",
    "            return cells\n",
    "        \n",
    "        for i in range(n):\n",
    "            key = tuple(cells)\n",
    "            cells = get_next(cells)\n",
    "            # print(f\"Iteration {i} -> {key} -> {cells}\")\n",
    "        \n",
    "        # print(f\"Answer = {cells}\")\n",
    "        return cells\n",
    "        \n",
    "# param = [0,1,0,1,1,0,0,1]\n",
    "# n = 27\n",
    "# s = Solution()\n",
    "# s.prisonAfterNDays(param, n)"
   ]
  },
  {
   "cell_type": "code",
   "execution_count": 110,
   "metadata": {},
   "outputs": [],
   "source": [
    "def printp(patterns):\n",
    "    print(\"Patterns:\")\n",
    "    for k, v in patterns.items():\n",
    "        print(f\"\\t{k} -> {v}\")\n",
    "def printl(arr):\n",
    "    print(\"Keys:\")\n",
    "    for i, v in enumerate(arr):\n",
    "        print(f\"\\tindex {i} -> {v}\")"
   ]
  },
  {
   "cell_type": "code",
   "execution_count": 131,
   "metadata": {},
   "outputs": [
    {
     "data": {
      "text/plain": [
       "[0, 0, 1, 1, 1, 1, 1, 0]"
      ]
     },
     "execution_count": 131,
     "metadata": {},
     "output_type": "execute_result"
    }
   ],
   "source": [
    "def prisonAfterNDays(cells, N):\n",
    "    for i in range((N - 1) % 14 + 1):\n",
    "        cells = [0] + [cells[i - 1] ^ cells[i + 1] ^ 1 for i in range(1, 7)] + [0]\n",
    "    return cells\n",
    "cells = [1,0,0,1,0,0,1,0]\n",
    "n = 1000000000\n",
    "prisonAfterNDays(cells, n)"
   ]
  },
  {
   "cell_type": "code",
   "execution_count": 71,
   "metadata": {},
   "outputs": [
    {
     "data": {
      "text/plain": [
       "8"
      ]
     },
     "execution_count": 71,
     "metadata": {},
     "output_type": "execute_result"
    }
   ],
   "source": []
  }
 ],
 "metadata": {
  "kernelspec": {
   "display_name": "Python 3",
   "language": "python",
   "name": "python3"
  },
  "language_info": {
   "codemirror_mode": {
    "name": "ipython",
    "version": 3
   },
   "file_extension": ".py",
   "mimetype": "text/x-python",
   "name": "python",
   "nbconvert_exporter": "python",
   "pygments_lexer": "ipython3",
   "version": "3.10.11"
  }
 },
 "nbformat": 4,
 "nbformat_minor": 2
}
