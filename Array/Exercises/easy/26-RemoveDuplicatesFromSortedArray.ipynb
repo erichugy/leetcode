{
 "cells": [
  {
   "cell_type": "markdown",
   "metadata": {},
   "source": [
    "Explanation: The first five elements are unique, and the rest of the array is irrelevant.\n",
    "# Note\n",
    "- Can also be done through two pointer \n",
    "\n",
    "\n",
    "### Constraints\n",
    "\n",
    "- `1 <= nums.length <= 3 * 10^4`\n",
    "- `-100 <= nums[i] <= 100`\n",
    "- `nums` is sorted in non-decreasing order.\n",
    "\n",
    "## Algorithm\n",
    "\n",
    "- The function iterates through `nums`, using a variable `unique_position` to track the position to insert the next unique element.\n",
    "- When a new unique element is encountered, it is moved to the `unique_position` and `unique_position` is incremented.\n",
    "- The function returns the number of unique elements, which is `unique_position + 1`.\n",
    "\n",
    "## Complexity Analysis\n",
    "\n",
    "- **Time Complexity**: `O(n)`  \n",
    "The algorithm iterates through the array once.\n",
    "\n",
    "- **Space Complexity**: `O(1)`  \n",
    "It uses a constant amount of extra space.\n",
    "\n",
    "## Implementation\n"
   ]
  },
  {
   "cell_type": "code",
   "execution_count": null,
   "metadata": {},
   "outputs": [],
   "source": [
    "class Solution:\n",
    "  def removeDuplicates(self, nums: List[int]) -> int:\n",
    "      if not nums:\n",
    "          return 0\n",
    "      \n",
    "      unique_position = 0\n",
    "      for i in range(1, len(nums)):\n",
    "          if nums[i] != nums[unique_position]:\n",
    "              unique_position += 1\n",
    "              nums[unique_position] = nums[i]\n",
    "      \n",
    "      return unique_position + 1"
   ]
  }
 ],
 "metadata": {
  "language_info": {
   "name": "python"
  }
 },
 "nbformat": 4,
 "nbformat_minor": 2
}
