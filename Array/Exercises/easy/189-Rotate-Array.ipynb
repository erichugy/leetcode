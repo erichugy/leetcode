{
 "cells": [
  {
   "cell_type": "code",
   "execution_count": null,
   "metadata": {},
   "outputs": [],
   "source": [
    "from typing import List"
   ]
  },
  {
   "cell_type": "markdown",
   "metadata": {},
   "source": [
    "# In-Place Array Rotation Using Reversal\n",
    "\n",
    "- Time complexity: `O(n)` - We reverse the entire array once, and then two parts of it, each operation being `O(n)`.\n",
    "- Space complexity: `O(1)` - No extra space is used; the reversal is done in place.\n",
    "\n",
    "## Algo:\n",
    "- This algorithm rotates an array `nums` by `k` steps to the right, using a reversal strategy.\n",
    "- Steps:\n",
    "    1. Normalize `k`: Ensure that the number of rotations `k` does not exceed the length of the array (`k %= len(nums)`).\n",
    "    2. Reverse the entire array: `nums.reverse()` flips the whole array.\n",
    "    3. Reverse the first `k` elements: `nums[:k] = reversed(nums[:k])` corrects the order of the first `k` elements.\n",
    "    4. Reverse the remaining elements: `nums[k:] = reversed(nums[k:])` corrects the order of the elements from `k` to the end.\n",
    "\n",
    "## Example:\n",
    "- If we have `nums = [1, 2, 3, 4, 5, 6, 7]` and `k = 3`, after applying the rotation, `nums` will be `[5, 6, 7, 1, 2, 3, 4]`.\n",
    "\n",
    "## Implementation Details:\n",
    "- A class `Solution` with a method `rotate` modifies the list `nums` in place.\n",
    "- The method executes a sequence of reversals to achieve the rotation efficiently.\n",
    "- The `print(\"Done\")` statement signifies the end of the rotation operation.\n"
   ]
  },
  {
   "cell_type": "code",
   "execution_count": null,
   "metadata": {},
   "outputs": [],
   "source": [
    "class Solution:\n",
    "    def rotate(self, nums: List[int], k: int) -> None:\n",
    "      # Reversed List Algo\n",
    "      k %= len(nums)\n",
    "      nums.reverse()\n",
    "      nums[:k] = reversed(nums[:k])\n",
    "      nums[k:] = reversed(nums[k:])\n",
    "      print(\"Done\")"
   ]
  },
  {
   "cell_type": "markdown",
   "metadata": {},
   "source": [
    "# Using a Tmp List\n",
    "\n",
    "- Time complexity: `O(n * k)`\n",
    "- Space complexity: `O(k)`\n",
    "\n",
    "## Algo:\n",
    "- This algorithm rotates an array `nums` by `k` steps to the right.\n",
    "- Approach:\n",
    "    1. Calculate the actual number of rotations needed (`k %= n`), as `k` might be larger than the array size.\n",
    "    2. Initialize a temporary array `temp` of size `k` to store elements that will be moved.\n",
    "    3. Iterate backwards through `nums`. For the first `k` elements, store them in `temp`. For the rest, shift them right by `k` positions.\n",
    "    4. Place the elements from `temp` into the beginning of `nums` to complete the rotation.\n",
    "\n",
    "## Example:\n",
    "- Rotate an array `[1, 2, 3, 4, 5, 6, 7]` by `k = 3` steps to get `[5, 6, 7, 1, 2, 3, 4]`.\n",
    "\n",
    "## Implementation:\n",
    "- A class `Solution` with a method `rotate` which modifies the input array `nums` in place.\n",
    "- Uses an extra array `temp` to temporarily hold elements and a two-step process to achieve the rotation.\n"
   ]
  },
  {
   "cell_type": "code",
   "execution_count": null,
   "metadata": {},
   "outputs": [],
   "source": [
    "class Solution:\n",
    "    def rotate(self, nums: List[int], k: int) -> None:\n",
    "        \"\"\"\n",
    "        Do not return anything, modify nums in-place instead.\n",
    "        \"\"\"\n",
    "        # O(n * k) Runtime\n",
    "        # O(k) Extra Space\n",
    "\n",
    "        n = len(nums) \n",
    "        i = n -1\n",
    "        insert = n-1\n",
    "        m = 0\n",
    "        k %= n\n",
    "        temp = [0] * k # fifo with m as index\n",
    "\n",
    "        while i >=0 :\n",
    "          if m < k:\n",
    "            temp[m] = nums[i]\n",
    "            m += 1\n",
    "          else:\n",
    "            nums[insert] = nums[i]\n",
    "            insert -= 1\n",
    "          i -= 1\n",
    "\n",
    "        for i in range (m):\n",
    "          nums[m-i-1] = temp[i]\n"
   ]
  },
  {
   "cell_type": "markdown",
   "metadata": {},
   "source": [
    "# Cyclic Replacement Array Rotation\n",
    "\n",
    "- Time complexity: `O(n)` - Each element is moved exactly once.\n",
    "- Space complexity: `O(1)` - Rotation is done in place without using additional storage.\n",
    "\n",
    "## Algo:\n",
    "- This algorithm rotates an array `nums` by `k` positions to the right using a cyclic replacement technique.\n",
    "- Steps:\n",
    "    1. Normalize `k`: Compute the effective number of rotations `k %= n` to avoid unnecessary cycles for multiples of the array's length.\n",
    "    2. Initialize two counters: `start` to keep track of the cycle's beginning and `count` to track the total number of elements moved.\n",
    "    3. Use a `while` loop to continue until all `n` elements have been moved.\n",
    "    4. Inside the loop, perform a series of replacements in a cycle, starting from `start` and moving `k` steps ahead each time.\n",
    "    5. Use a nested `while True` loop to move elements to their correct rotated position, updating `count` each time an element is moved.\n",
    "    6. Break out of the nested loop when we return to the `start` position, indicating the end of the current cycle.\n",
    "    7. Increment `start` to begin a new cycle if any elements remain to be rotated.\n",
    "\n",
    "## Example:\n",
    "- For `nums = [1, 2, 3, 4, 5, 6, 7]` and `k = 3`, after rotation, `nums` will be updated to `[5, 6, 7, 1, 2, 3, 4]`.\n",
    "\n",
    "## Implementation Details:\n",
    "- A class `Solution` with a method `rotate` that modifies the list `nums` in place.\n",
    "- The algorithm efficiently places each element in its correct rotated position through cyclic replacement.\n",
    "- The process continues in cycles, ensuring all elements are moved even if `n` and `k` have common divisors.\n"
   ]
  },
  {
   "cell_type": "code",
   "execution_count": null,
   "metadata": {},
   "outputs": [],
   "source": [
    "class Solution:\n",
    "    def rotate(self, nums: List[int], k: int) -> None:\n",
    "        n = len(nums)\n",
    "        k %= n\n",
    "        \n",
    "        start = count = 0\n",
    "        while count < n:\n",
    "            current, prev = start, nums[start]\n",
    "            while True:\n",
    "                next_idx = (current + k) % n\n",
    "                nums[next_idx], prev = prev, nums[next_idx]\n",
    "                current = next_idx\n",
    "                count += 1\n",
    "                \n",
    "                if start == current:\n",
    "                    break\n",
    "            start += 1"
   ]
  }
 ],
 "metadata": {
  "language_info": {
   "name": "python"
  }
 },
 "nbformat": 4,
 "nbformat_minor": 2
}
