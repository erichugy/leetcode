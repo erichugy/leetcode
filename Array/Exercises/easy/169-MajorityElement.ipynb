{
 "cells": [
  {
   "cell_type": "markdown",
   "metadata": {},
   "source": [
    "# Boyer-Moore Majority Vote Algorithm\n",
    "    - Time complexity: `O(n)`\n",
    "    - Space complexity: `O(1)`\n",
    "    - **Algo**:\n",
    "    - Designed to find the majority element in an array (appearing more than `n/2` times).\n",
    "    - The algorithm uses a two-step approach:\n",
    "        1. **Candidate Selection**:\n",
    "            - Initialize two variables: `candidate` (potential majority element) and `count` (count of candidate's occurrences).\n",
    "            - Iterate through each element in the array.\n",
    "            - If `count` is 0, set the current element as `candidate`.\n",
    "            - If the current element equals `candidate`, increment `count`.\n",
    "            - If not, decrement `count`.\n",
    "        2. **Majority Verification** (Optional):\n",
    "            - Reset `count` to 0.\n",
    "            - Iterate through the array to count the occurrences of `candidate`.\n",
    "            - If `count` is greater than `n/2`, `candidate` is confirmed as the majority element.\n",
    "    - Ex:\n",
    "        - Determine the majority element in a given array, like identifying the most frequent item in a dataset.\n",
    "\n",
    "\n",
    "```C++\n",
    "class Solution {\n",
    "public:\n",
    "    int majorityElement(vector<int>& nums) {\n",
    "        int curr = 0;\n",
    "        int count = 0;\n",
    "\n",
    "        for(auto iter: nums){\n",
    "            if (count == 0){\n",
    "                curr = iter;\n",
    "                count++;\n",
    "            } else if (curr != iter) {\n",
    "                count --;\n",
    "            } else {\n",
    "                count ++;\n",
    "            }\n",
    "        }\n",
    "        return curr; \n",
    "    }\n",
    "};\n",
    "```"
   ]
  },
  {
   "cell_type": "code",
   "execution_count": null,
   "metadata": {},
   "outputs": [],
   "source": [
    "class Solution:\n",
    "    def majorityElement(self, nums: List[int]) -> int:\n",
    "        #Boyer Moore Algorithm\n",
    "        curr = None\n",
    "        count = 0\n",
    "\n",
    "        for i in nums:\n",
    "            if count == 0:\n",
    "                curr = i\n",
    "                count += 1\n",
    "            elif curr != i:\n",
    "                count -= 1\n",
    "            else:\n",
    "                count += 1\n",
    "        \n",
    "        return curr\n",
    "        "
   ]
  }
 ],
 "metadata": {
  "language_info": {
   "name": "python"
  }
 },
 "nbformat": 4,
 "nbformat_minor": 2
}
