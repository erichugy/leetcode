{
 "cells": [
  {
   "cell_type": "markdown",
   "metadata": {},
   "source": [
    "# Algorithm\n",
    "\n",
    "- **Hailstone Distribution of Data**:  \n",
    "  Refer to `One-Pass/img/121_profit_graph.png` for a visual representation.\n",
    "\n",
    "- **Objective**:  \n",
    "  Determine the greatest height difference between a valley and the subsequent peaks.\n",
    "\n",
    "- **Approach**:  \n",
    "  Use a two-pointer system to simulate buying and selling stock:\n",
    "  - The right pointer is always at least one step ahead of the left.\n",
    "  - If the right pointer's price is less than the left pointer's, update the left pointer to the right pointer's position, identifying a new lower valley.\n",
    "  - If not, calculate the potential profit if the current peak is higher than previously encountered peaks and update the current profit if greater.\n",
    "\n",
    "- **Implementation**:  \n",
    "  The details of the implementation will be discussed further.\n",
    "\n",
    "# Complexity Analysis\n",
    "\n",
    "Let `n` be the number of elements in the prices array.\n",
    "\n",
    "## Time Complexity\n",
    "\n",
    "- Overall: `O(n)`  \n",
    "  Each element is visited once, hence the linear time complexity.\n",
    "\n",
    "## Space Complexity\n",
    "\n",
    "- Overall: `O(1)`  \n",
    "  Only constant space is used, independent of the input size.\n"
   ]
  },
  {
   "cell_type": "code",
   "execution_count": null,
   "metadata": {},
   "outputs": [],
   "source": [
    "class Solution:\n",
    "    def maxProfit(self, prices: List[int]) -> int:\n",
    "        profit = 0\n",
    "        left = 0\n",
    "        right = 1\n",
    "        while right < len(prices):\n",
    "            curr = prices[right] - prices[left]\n",
    "\n",
    "            if curr <= 0:\n",
    "                left = right\n",
    "                right += 1\n",
    "            else :\n",
    "                right += 1\n",
    "                profit = max(profit, curr)\n",
    "        return profit"
   ]
  }
 ],
 "metadata": {
  "language_info": {
   "name": "python"
  }
 },
 "nbformat": 4,
 "nbformat_minor": 2
}
