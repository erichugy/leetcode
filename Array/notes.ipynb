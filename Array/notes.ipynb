{
 "cells": [
  {
   "cell_type": "markdown",
   "metadata": {},
   "source": [
    "# General Array Algorithms\n",
    "\n",
    "## General Algorithms\n",
    "1) **One-Pass** \n",
    "    - Time complexity: ```O(n)```\n",
    "\n",
    "    - Space complexity: ```N/A```\n",
    "    - Ex: Find the Best Time to Buy and Sell a Stock (121)\n",
    "        - **Hailstone distribution** of data (*See One-Pass/img/121...*)\n",
    "        \n",
    "        - Want to know what is the greatest height diff between a valley and following peaks\n",
    "        - Here, since you must buy a stock before you can sell it, you can use a two pointer system where you always have the right pointer at least one ahead of the left.\n",
    "        - Then, if the price of the right pointer is smaller than the price of the left pointer, we know that we've found a lower valley than the one we currently have as the left pointer -> update left pointer to be the right pointer\n",
    "            - the min valley up of the elements we've scanned thus far will yield the largest profits for any peaks in the future\n",
    "        - Otherwise, check if we're looking at the highest peak out of the elements we've scanned.\n",
    "            - Do this by calculating the profit and determining if it greater than the current profit\n",
    "2) **Remove k Duplicates**\n",
    "    - Time Complexity ```O(n)```\n",
    "    \n",
    "\n"
   ]
  },
  {
   "cell_type": "markdown",
   "metadata": {},
   "source": [
    "## Sample Code"
   ]
  },
  {
   "cell_type": "code",
   "execution_count": null,
   "metadata": {},
   "outputs": [],
   "source": [
    "### Finding the largest index of a number\n"
   ]
  },
  {
   "cell_type": "code",
   "execution_count": null,
   "metadata": {},
   "outputs": [],
   "source": []
  }
 ],
 "metadata": {
  "language_info": {
   "name": "python"
  }
 },
 "nbformat": 4,
 "nbformat_minor": 2
}
