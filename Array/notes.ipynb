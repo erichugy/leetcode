{
 "cells": [
  {
   "cell_type": "markdown",
   "metadata": {},
   "source": [
    "# General Array Algorithms\n",
    "\n",
    "## General Algorithms\n",
    "1) **Remove k Duplicates**\n",
    "    - Time Complexity ```O(n)```\n",
    "    - Space complexity: ```O(1)```\n",
    "    - **Algo**\n",
    "        - The function iterates through `nums`, using a variable `unique_position` to track the position to insert the next unique element.\n",
    "        - When a new unique element is encountered, it is moved to the `unique_position` and `unique_position` is incremented.\n",
    "        - The function returns the number of unique elements, which is `unique_position + 1`.\n",
    "    - Ex: \n",
    "        - Remove Duplicates from Sorted Array (26)\n",
    "2) **Boyer-Moore Majority Vote Algorithm**\n",
    "    - Time complexity: `O(n)`\n",
    "    - Space complexity: `O(1)`\n",
    "    - **Algo**:\n",
    "    - Designed to find the majority element in an array (appearing more than `n/2` times).\n",
    "    - The algorithm uses a two-step approach:\n",
    "        1. **Candidate Selection**:\n",
    "            - Initialize two variables: `candidate` (potential majority element) and `count` (count of candidate's occurrences).\n",
    "            - Iterate through each element in the array.\n",
    "            - If `count` is 0, set the current element as `candidate`.\n",
    "            - If the current element equals `candidate`, increment `count`.\n",
    "            - If not, decrement `count`.\n",
    "        2. **Majority Verification** (Optional):\n",
    "            - Reset `count` to 0.\n",
    "            - Iterate through the array to count the occurrences of `candidate`.\n",
    "            - If `count` is greater than `n/2`, `candidate` is confirmed as the majority element.\n",
    "    - Ex:\n",
    "        - Determine the majority element in a given array, like identifying the most frequent item in a dataset.\n",
    "3) **Rotate Array**\n",
    "    - Many different algorithms\n",
    "        - Create a reversed array copy\n",
    "            - O(n) extra space & O(n) Runtime\n",
    "        - Reversing Method\n",
    "            - O(1) extra space & O(n) Runtime\n",
    "            - Reverse the whole list\n",
    "            - Reverse k-elements (beg of list)\n",
    "            - Reverse the rest of the list\n",
    "        - Cyclic Replacement\n",
    "            - \n",
    "    - See 189 for further details\n",
    "\n",
    "## Problem Specific Algorithms\n",
    "1) Hailstone Peak Trader: One-Pass, Two-Pointer Stock Profit Maximization Algorithm\n",
    "    - Time complexity: ```O(n)```\n",
    "    - Space complexity: ```O(1)```\n",
    "    - **Algo**:  \n",
    "        - Use a two-pointer system to simulate buying and selling stock:\n",
    "        - The right pointer is always at least one step ahead of the left.\n",
    "        - If the right pointer's price is less than the left pointer's, update the left pointer to the right pointer's position, identifying a new lower valley.\n",
    "        - If not, calculate the potential profit if the current peak is higher than previously encountered peaks and update the current profit if greater.\n",
    "    - Ex: \n",
    "        - Find the Best Time to Buy and Sell a Stock (121)\n",
    "\n",
    "    \n",
    "\n"
   ]
  },
  {
   "cell_type": "markdown",
   "metadata": {},
   "source": [
    "## Sample Code"
   ]
  },
  {
   "cell_type": "code",
   "execution_count": null,
   "metadata": {},
   "outputs": [],
   "source": [
    "### Finding the largest index of a number\n"
   ]
  },
  {
   "cell_type": "code",
   "execution_count": null,
   "metadata": {},
   "outputs": [],
   "source": []
  }
 ],
 "metadata": {
  "language_info": {
   "name": "python"
  }
 },
 "nbformat": 4,
 "nbformat_minor": 2
}
