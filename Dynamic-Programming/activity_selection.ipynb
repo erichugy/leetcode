{
 "cells": [
  {
   "cell_type": "markdown",
   "metadata": {},
   "source": [
    "## Activity Selection Problem\n",
    "**Description**: You are given n activities with their start and finish times. \n",
    "\n",
    "**Objective**: Select the maximum number of activities that can be performed by a single person, assuming that a person can only work on a single activity at a time. \n",
    "\n",
    "**Examples**:\n",
    "```\n",
    "Input: start[]  =  {10, 12, 20}, finish[] =  {20, 25, 30}\n",
    "\n",
    "Start:  10-12-------20\n",
    "End:                20----25----30\n",
    "        10---------20\n",
    "            12------------25\n",
    "                    20----------30\n",
    "        \n",
    "Output: 0 2\n",
    "Explanation: A person can perform at most two activities. The \n",
    "maximum set of activities that can be executed \n",
    "is {0, 2} [ These are indexes in start[] and finish[] ]\n",
    "\n",
    "Input: start[]  =  {1, 3, 0, 5, 8, 5}, finish[] =  {2, 4, 6, 7, 9, 9};\n",
    "Output: 0 1 3 4\n",
    "Explanation: A person can perform at most four activities. The \n",
    "maximum set of activities that can be executed \n",
    "is {0, 1, 3, 4} [These are indexes in start[] and finish[]]\n",
    "\n",
    "```\n"
   ]
  },
  {
   "cell_type": "markdown",
   "metadata": {},
   "source": [
    "### Greedy Approach\n",
    "Requires problem to have an optimal Substructure\n",
    "The greedy choice is to always pick the next activity whose finish time is the least among the remaining activities and the start time is more than or equal to the finish time of the previously selected activity. \n",
    "We can sort the activities according to their finishing time so that we always consider the next activity as the minimum finishing time activity."
   ]
  },
  {
   "cell_type": "markdown",
   "metadata": {},
   "source": [
    "### Dynamic Programming Approach\n",
    "**General Approach**\n",
    "\n",
    "Break down problem into subproblems:\n",
    "\n",
    "Let OPT(j) be the optimal solution to the problem where j is the activities {1,2,3...,j}\n",
    "\n",
    "*Case 1*: OPT selects activity j\n",
    "    - Can't use incompatible jobs\n",
    "    - Must include optimal solution to the problem consisting of the remaining compatible jobs\n",
    "*Case 2*: OPT doesn't select activity j\n",
    "    - Must include optimal solution to the problem consisting of the remaining compatible jobs\n",
    "*Case 3*: (Base Case) there are no activities to select from -> return nothing\n",
    "\n",
    "\n",
    "#### Brute Force Implementation of Solution\n",
    "```\n",
    "INPUT: N, s1,…,sN , f1,…,fN , w1,…,wN\n",
    "\n",
    "Sort jobs by increasing finish times so that\n",
    "f1 ≤ f2 ≤ ... ≤ fN.\n",
    "\n",
    "Compute q1, q2 , ... , qN\n",
    "r-compute(j) {\n",
    "IF (j = 0)\n",
    "RETURN 0\n",
    "ELSE\n",
    "return max(wj + r-compute(qj), r-compute(j-1))\n",
    "}\n",
    "```\n",
    "\n"
   ]
  }
 ],
 "metadata": {
  "language_info": {
   "name": "python"
  }
 },
 "nbformat": 4,
 "nbformat_minor": 2
}
