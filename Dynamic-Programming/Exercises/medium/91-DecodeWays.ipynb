{
 "cells": [
  {
   "cell_type": "markdown",
   "metadata": {},
   "source": [
    "# Two possible ways:\n",
    "\n"
   ]
  },
  {
   "cell_type": "code",
   "execution_count": null,
   "metadata": {},
   "outputs": [],
   "source": [
    "class Solution:\n",
    "    def numDecodings(self, s : str) -> int:\n",
    "        dp = {len(s) : 1}\n",
    "        def dfs(i):\n",
    "            if i in dp:\n",
    "                return dp[i]\n",
    "            if s[i] == '0':\n",
    "                return 0\n",
    "            ans = dfs(i + 1)\n",
    "            if i + 1 < len(s) and (s[i] == '1' or s[i] == '2' and s[i + 1] < '7'):\n",
    "                ans += dfs(i + 2)\n",
    "            dp[i] = ans\n",
    "            return ans\n",
    "        return dfs(0)"
   ]
  }
 ],
 "metadata": {
  "language_info": {
   "name": "python"
  }
 },
 "nbformat": 4,
 "nbformat_minor": 2
}
