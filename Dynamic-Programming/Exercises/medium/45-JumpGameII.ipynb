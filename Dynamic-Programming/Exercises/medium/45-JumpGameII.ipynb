{
 "cells": [
  {
   "cell_type": "code",
   "execution_count": null,
   "metadata": {},
   "outputs": [],
   "source": [
    "from typing import List"
   ]
  },
  {
   "cell_type": "markdown",
   "metadata": {},
   "source": [
    "# Minimum Number of Jumps to Reach End\n",
    "\n",
    "- Time complexity: Potentially `O(n^2)` due to the nested loops.\n",
    "- Space complexity: `O(n)` for the memoization array.\n",
    "\n",
    "## Algo:\n",
    "- The algorithm utilizes dynamic programming with memoization to find the minimum number of jumps needed to reach the last index of the array.\n",
    "- Steps:\n",
    "    1. **Base Case Handling**: If the array length is 1, return 0 since no jumps are needed.\n",
    "    2. Initialize a memoization array `mem` to store the minimum number of jumps needed to reach each index.\n",
    "    3. Set the first element of `mem` to 0 as the starting point.\n",
    "    4. Loop over each index `i` of the array.\n",
    "        - Retrieve the current number of jumps from `mem[i]`.\n",
    "        - Inner loop backwards from `nums[i]` down to 1 to find the farthest reachable index.\n",
    "        - If `mem[i + j]` is non-zero, break as this index is already reachable with fewer or the same jumps.\n",
    "        - Otherwise, set `mem[i + j]` to `jumps + 1`.\n",
    "    5. The last element of `mem` gives the minimum number of jumps needed to reach the end.\n",
    "\n",
    "## Example:\n",
    "- Given `nums = [2, 3, 1, 1, 4]`, the method would return `2`, as the minimum number of jumps to reach the end is two (jump from index 0 to 1, then from index 1 to the end).\n",
    "\n",
    "## Implementation Details:\n",
    "- The `jump` method is a member of the `Solution` class.\n",
    "- Memoization is used to avoid recalculating the minimum number of jumps for each index.\n",
    "- The solution iterates over each element and updates the memoization array with the minimum jumps needed to reach further indices.\n",
    "- The memoization array is initialized with zeros and updated in place.\n"
   ]
  },
  {
   "cell_type": "markdown",
   "metadata": {},
   "source": [
    "# Version 1\n",
    "- Plain bottom up approach with memoization"
   ]
  },
  {
   "cell_type": "code",
   "execution_count": null,
   "metadata": {},
   "outputs": [],
   "source": [
    "class Solution:\n",
    "    def jump(self, nums: List[int]) -> int:\n",
    "        # memoization\n",
    "        n = len(nums)\n",
    "        mem = [0] * n\n",
    "        mem[0] = 0\n",
    "\n",
    "        for i in range(1, n):\n",
    "            jumps = mem[i]\n",
    "            for j in range(nums[i]):\n",
    "                mem[i + j] = min (jumps + 1, mem[i + j]) if mem[i + j] else jumps + 1\n",
    "        \n",
    "        return mem[-1]"
   ]
  },
  {
   "cell_type": "markdown",
   "metadata": {},
   "source": [
    "# Version 2\n",
    "- Optimized using Greddy\n",
    "- Realize that if you've already found a way to get to index i, then (if building bottom up) and by something like the triangle theorem, you'll never find a shorter way to get to said index"
   ]
  },
  {
   "cell_type": "code",
   "execution_count": null,
   "metadata": {},
   "outputs": [],
   "source": [
    "class Solution:\n",
    "    def jump(self, nums: List[int]) -> int:\n",
    "        # memoization\n",
    "        n = len(nums)\n",
    "        mem = [0] * n\n",
    "        mem[0] = 0\n",
    "\n",
    "        for i in range(0, n):\n",
    "            jumps = mem[i]\n",
    "            for j in range(1, nums[i] + 1):\n",
    "                if i + j >= n: break\n",
    "                if mem[i + j]: continue\n",
    "                mem[i + j] = jumps + 1\n",
    "        \n",
    "        return mem[-1]"
   ]
  },
  {
   "cell_type": "markdown",
   "metadata": {},
   "source": [
    "# Version 3\n",
    "- Memoization and Greedy\n",
    "- Realized that if we don't need to recalculate already visited indices\n",
    "- Meaning that you can just visit the reachable indices top down and then stop once you find one that you've already visited\n",
    "- Needed to add an edge case handling to not jump for no reason"
   ]
  },
  {
   "cell_type": "code",
   "execution_count": null,
   "metadata": {},
   "outputs": [],
   "source": [
    "class Solution:\n",
    "    def jump(self, nums: List[int]) -> int:\n",
    "        # memoization\n",
    "        if len(nums) == 1: return 0\n",
    "        n = len(nums)\n",
    "        mem = [0] * n\n",
    "        mem[0] = 0\n",
    "\n",
    "        for i in range(0, n):\n",
    "            jumps = mem[i]\n",
    "            for j in range(nums[i], -1, -1):\n",
    "                if i + j >= n: continue\n",
    "                if mem[i + j]: break\n",
    "                mem[i + j] = jumps + 1\n",
    "        \n",
    "        return mem[-1]"
   ]
  },
  {
   "cell_type": "markdown",
   "metadata": {},
   "source": [
    "# Can also do it without memoization using iteration \n",
    "## Algorithm\n",
    "Initialize curEnd = 0, curFar = 0 and the number of jumps as answer = 0.\n",
    "\n",
    "Interate over nums, for each index i, the farthest index we can reach from i is i + nums[i]. We update curFar = max(curFar, i + nums[i]).\n",
    "\n",
    "If i = curEnd, it means we have finished the current jump, and should move on to the next jump. Increment answer, and set curEnd = curFar as the furthest we can reach with the next jump. Repeat from step 2.\n",
    "\n",
    "## Complexity Analysis\n",
    "Let nnn be the length of the input array nums.\n",
    "\n",
    "Time complexity: `O(n)`\n",
    "\n",
    "We iterate over nums and stop at the second last element. In each step of the iteration, we make some calculations that take constant time. Therefore, the overall time complexity is `O(n)`.\n",
    "\n",
    "Space complexity: `O(1)`\n",
    "\n",
    "In the iteration, we only need to update three variables, curEnd, curFar and answer, they only take constant space."
   ]
  },
  {
   "cell_type": "code",
   "execution_count": null,
   "metadata": {},
   "outputs": [],
   "source": [
    "\n",
    "class Solution:\n",
    "    def jump(self, nums: List[int]) -> int:\n",
    "        # The starting range of the first jump is [0, 0]\n",
    "        answer, n = 0, len(nums)\n",
    "        cur_end, cur_far = 0, 0\n",
    "        \n",
    "        for i in range(n - 1):\n",
    "            # Update the farthest reachable index of this jump.\n",
    "            cur_far = max(cur_far, i + nums[i])\n",
    "\n",
    "            # If we finish the starting range of this jump,\n",
    "            # Move on to the starting range of the next jump.\n",
    "            if i == cur_end:\n",
    "                answer += 1\n",
    "                cur_end = cur_far\n",
    "                \n",
    "        return answer"
   ]
  }
 ],
 "metadata": {
  "language_info": {
   "name": "python"
  }
 },
 "nbformat": 4,
 "nbformat_minor": 2
}
