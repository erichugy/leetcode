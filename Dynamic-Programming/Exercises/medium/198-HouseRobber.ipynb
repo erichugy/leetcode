{
 "cells": [
  {
   "cell_type": "markdown",
   "metadata": {},
   "source": [
    "# Maximizing Weight with constraints"
   ]
  },
  {
   "cell_type": "markdown",
   "metadata": {},
   "source": [
    "## House Robber - 198\n",
    "**Problem**: Given an array of houses represented by how much money they contain, what's the most money you can rob from these houses given that you cannot rob two consecutive houses?\n",
    "\n",
    "Potential Edge cases:\n",
    "Only 1 house"
   ]
  },
  {
   "cell_type": "markdown",
   "metadata": {},
   "source": [
    "**Good and Simple Solution**\n",
    "Keep track of the max value of the past two houses \n",
    "\n",
    "really, we can simplify it to the current = the max of robbing the current house plus the max of house i - 2 vs the max of not robbing the current house but just the max of house i - 1.\n",
    "\n",
    "Ways to improve, use the provided nums array to store a and b to use less memory"
   ]
  },
  {
   "cell_type": "code",
   "execution_count": null,
   "metadata": {
    "vscode": {
     "languageId": "java"
    }
   },
   "outputs": [],
   "source": [
    "class Solution {\n",
    "    public int rob(int[] nums) {\n",
    "                \n",
    "        int a = 0; // Last last house\n",
    "        int b = 0; // Last House\n",
    "        int tmp;\n",
    "\n",
    "        for (int i = 0; i < nums.length; i ++ ) {\n",
    "\n",
    "            tmp = Math.max(a + nums[i], b);\n",
    "            a = b;\n",
    "            b = tmp;\n",
    "        }\n",
    "\n",
    "        return b;\n",
    "    }\n",
    "}"
   ]
  },
  {
   "cell_type": "code",
   "execution_count": null,
   "metadata": {},
   "outputs": [],
   "source": [
    "from typing import List\n",
    "class Solution:\n",
    "    def rob(self, nums: List[int]) -> int:\n",
    "        a = 0\n",
    "        b = 0\n",
    "        n =  len(nums)\n",
    "        for i in range(n):\n",
    "            tmp = max(a + nums[i], b)\n",
    "            a = b\n",
    "            b = tmp\n",
    "        return b"
   ]
  }
 ],
 "metadata": {
  "language_info": {
   "name": "python"
  }
 },
 "nbformat": 4,
 "nbformat_minor": 2
}
