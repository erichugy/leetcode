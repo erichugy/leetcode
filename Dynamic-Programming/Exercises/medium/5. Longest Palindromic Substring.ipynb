{
 "cells": [
  {
   "cell_type": "markdown",
   "metadata": {},
   "source": [
    "Given a string `s`, return the *longest palindromic substring* in `s`.\n",
    "\n",
    "\n",
    "**Example 1:**\n",
    "```\n",
    "Input: s = \"babad\"\n",
    "Output: \"bab\"\n",
    "Explanation: \"aba\" is also a valid answer.\n",
    "```\n",
    "**Example 2:**\n",
    "```\n",
    "Input: s = \"cbbd\"\n",
    "Output: \"bb\"\n",
    " ```\n",
    "\n",
    "Constraints:\n",
    "- `1 <= s.length <= 1000`\n",
    "- `s` consist of only digits and English letters."
   ]
  },
  {
   "cell_type": "markdown",
   "metadata": {},
   "source": [
    "## Solution: Build palindrome from inside out\n",
    "Not the best solution,but the one that make the most intuitive sense to me.\n",
    "Need to refresh on why there's a check for even and odd starting points\n",
    "### Complexity Analysis\n",
    "**Runtime**: O (n^2)\n",
    "    - build is O(n)\n",
    "    - iterating over every source is O(n)\n",
    "**Space Complexity**: O(n)\n",
    "    - at worst case, will build the entire word many times"
   ]
  },
  {
   "cell_type": "code",
   "execution_count": null,
   "metadata": {},
   "outputs": [],
   "source": [
    "class Solution:\n",
    "    def longestPalindrome(self, s: str) -> str:\n",
    "        #Start from center and build outwards\n",
    "        #End exclusive\n",
    "        if s == s[::-1]: return s\n",
    "\n",
    "        n = len(s)\n",
    "        start, end = 0, 0\n",
    "\n",
    "        #Check if i and j equal, else, return i + 1, j - 1\n",
    "        def build (i: int, j : int) -> Tuple [int,int,int]:\n",
    "            # If in bounds, and are same, check next.\n",
    "            if (i >= 0 and j < n) and s[i] == s[j]: \n",
    "                return build (i - 1, j + 1)\n",
    "            else: #if not in bounds and or not same, return last\n",
    "                return (i + 1, j - 1, j - i - 2)    \n",
    "\n",
    "        for i in range(n):\n",
    "            #Odd Scenario\n",
    "            tmpS,tmpE, tmpl = build (i, i)\n",
    "            if tmpl > end - start: start, end = tmpS, tmpE\n",
    "\n",
    "            #Even Scenario\n",
    "            tmpS,tmpE, tmpl = build (i, i+1)\n",
    "            if tmpl > end - start: start, end = tmpS, tmpE\n",
    "        \n",
    "        return s[start:end + 1]\n"
   ]
  }
 ],
 "metadata": {
  "language_info": {
   "name": "python"
  }
 },
 "nbformat": 4,
 "nbformat_minor": 2
}
