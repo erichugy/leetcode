{
 "cells": [
  {
   "cell_type": "markdown",
   "metadata": {},
   "source": [
    "Given a string `s`, return the *longest palindromic substring* in `s`.\n",
    "\n",
    "\n",
    "**Example 1:**\n",
    "```\n",
    "Input: s = \"babad\"\n",
    "Output: \"bab\"\n",
    "Explanation: \"aba\" is also a valid answer.\n",
    "```\n",
    "**Example 2:**\n",
    "```\n",
    "Input: s = \"cbbd\"\n",
    "Output: \"bb\"\n",
    " ```\n",
    "\n",
    "Constraints:\n",
    "- `1 <= s.length <= 1000`\n",
    "- `s` consist of only digits and English letters."
   ]
  },
  {
   "cell_type": "markdown",
   "metadata": {},
   "source": [
    "## Solution: Build palindrome from inside out\n",
    "Best Solution (before using any tricks)\n",
    "\n",
    "### Complexity Analysis\n",
    "\n",
    "**Runtime**: $O (n^2)$\n",
    "\n",
    "    - build is $O(n)$\n",
    "    - iterating over every source is $O(n)$\n",
    "\n",
    "**Space Complexity**: $O(n)$\n",
    "\n",
    "    - Two reasons:\n",
    "      - Recursion stack (if `build()` is recursive can become the length of the string `s`)\n",
    "      - If the substring is of length `s`, then you will keep track of `n` extra space"
   ]
  },
  {
   "cell_type": "code",
   "execution_count": null,
   "metadata": {},
   "outputs": [],
   "source": [
    "from typing import List, Tuple\n",
    "class Solution:\n",
    "    def longestPalindrome(self, s: str) -> str:\n",
    "        #Start from center and build outwards\n",
    "        #End exclusive\n",
    "        if s == s[::-1]: return s\n",
    "\n",
    "        n = len(s)\n",
    "        start, end = 0, 0\n",
    "\n",
    "        #Check if i and j equal, else, return i + 1, j - 1\n",
    "        def build (i: int, j : int) -> Tuple [int,int,int]:\n",
    "            # If in bounds, and are same, check next.\n",
    "            if (i >= 0 and j < n) and s[i] == s[j]: \n",
    "                return build (i - 1, j + 1)\n",
    "            else: #if not in bounds and or not same, return last\n",
    "                return (i + 1, j - 1, j - i - 2)    \n",
    "\n",
    "        for i in range(n):\n",
    "            #Odd Scenario\n",
    "            tmpS,tmpE, tmpl = build (i, i)\n",
    "            if tmpl > end - start: start, end = tmpS, tmpE\n",
    "\n",
    "            #Even Scenario\n",
    "            tmpS,tmpE, tmpl = build (i, i+1)\n",
    "            if tmpl > end - start: start, end = tmpS, tmpE\n",
    "        \n",
    "        return s[start:end + 1]\n"
   ]
  },
  {
   "cell_type": "code",
   "execution_count": null,
   "metadata": {
    "vscode": {
     "languageId": "java"
    }
   },
   "outputs": [],
   "source": [
    "class Solution {\n",
    "    int[] buildSubstring(String s, int l, int r, int n) {\n",
    "        // Handle when even length is not a palindrome to begin with\n",
    "        if (l != r && s.charAt(l) != s.charAt(r)) \n",
    "            return new int[] {l+1, r, 1};\n",
    "\n",
    "        while (l - 1 >= 0 && r + 1 < n && s.charAt(l-1) == s.charAt(r+1)) {\n",
    "            l -= 1; \n",
    "            r += 1;\n",
    "        }\n",
    "\n",
    "        // Return the left index, right index, and size\n",
    "        return new int[]{l, r+1, r+1 - l};\n",
    "    }\n",
    "    public String longestPalindrome(String s) {\n",
    "        // Base Case\n",
    "        String out = String.valueOf(s.charAt(0));\n",
    "        int currSize = 1;\n",
    "        \n",
    "        int[] substringIdx;\n",
    "        int n = s.length();\n",
    "\n",
    "        for (int i = 1; i < n; i ++) {\n",
    "            // Odd\n",
    "            substringIdx = buildSubstring(s, i, i, n);\n",
    "            if (substringIdx[2] > currSize) {\n",
    "                out = s.substring(substringIdx[0],substringIdx[1]);\n",
    "                currSize = substringIdx[2];\n",
    "            }\n",
    "            \n",
    "            // Even\n",
    "            substringIdx = buildSubstring(s, i-1, i, n);\n",
    "            if (substringIdx[2] > currSize) {\n",
    "                out = s.substring(substringIdx[0],substringIdx[1]);\n",
    "                currSize = substringIdx[2];\n",
    "            }\n",
    "        }\n",
    "\n",
    "        return out;\n",
    "    }\n",
    "}"
   ]
  }
 ],
 "metadata": {
  "language_info": {
   "name": "python"
  }
 },
 "nbformat": 4,
 "nbformat_minor": 2
}
