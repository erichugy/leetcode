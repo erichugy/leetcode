class Solution:
    """
    Trick: since no queen can be on the same row or column, instead of saving all the positions of the queens in a 2D array, we can just save a 1D row of the positios of each queen in each row
    ex from board on the left: [1, 3, 0, 2]
    ex from board on the right: [2, 0, 3, 1]
    """
    def solveNQueens(self, n: int) -> List[List[str]]:
